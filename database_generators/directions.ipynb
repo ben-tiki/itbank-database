{
 "cells": [
  {
   "cell_type": "code",
   "execution_count": 33,
   "metadata": {},
   "outputs": [],
   "source": [
    "import pandas as pd\n",
    "import random\n",
    "import sqlite3"
   ]
  },
  {
   "cell_type": "markdown",
   "metadata": {},
   "source": [
    "#### Crear lista de calles aleatorias"
   ]
  },
  {
   "cell_type": "code",
   "execution_count": 16,
   "metadata": {},
   "outputs": [],
   "source": [
    "# se crea la lista de posibles provincias\n",
    "provinces = [\"Buenos Aires\", \"Catamarca\", \"Chaco\", \"Chubut\", \n",
    "             \"Cordoba\", \"Corrientes\", \"Entre Rios\", \"Formosa\", \n",
    "             \"Jujuy\", \"La Pampa\", \"La Rioja\", \"Mendoza\", \"Misiones\", \"Neuquen\",\n",
    "              \"Rio Negro\", \"Salta\", \"San Juan\", \"San Luis\", \"Santa Cruz\",\n",
    "              \"Santa Fe\", \"Santiago del Estero\", \"Tierra del fuego\", \"Tucuman\"]"
   ]
  },
  {
   "cell_type": "code",
   "execution_count": 3,
   "metadata": {},
   "outputs": [],
   "source": [
    "# Se obtienen las localidades de cada provincia\n",
    "location_dict = {}\n",
    "for province in provinces:\n",
    "\n",
    "    formatted_province = province.replace(\" \", \"\").lower()\n",
    "    link = f\"https://www.citypopulation.de/php/argentina-{formatted_province}_s.php\"\n",
    "\n",
    "    df = pd.read_html(link)[0]\n",
    "    locations = df[\"Nombre\"].values.tolist()\n",
    "\n",
    "    location_dict[province] = locations"
   ]
  },
  {
   "cell_type": "code",
   "execution_count": 7,
   "metadata": {},
   "outputs": [],
   "source": [
    "# se obtienen ejemplos de calles de Argentina\n",
    "streets = pd.read_html(\"https://es.wikipedia.org/wiki/Anexo:Calles_de_la_ciudad_de_Buenos_Aires\")[0]\n",
    "streets = streets[\"Nombre\"].values.tolist()"
   ]
  },
  {
   "cell_type": "code",
   "execution_count": 11,
   "metadata": {},
   "outputs": [],
   "source": [
    "# se generan datos aleatorios de alturas de calles\n",
    "heights = list(range(100, 9999))"
   ]
  },
  {
   "cell_type": "markdown",
   "metadata": {},
   "source": [
    "#### Se generan las direcciones para agregar a la base de datos"
   ]
  },
  {
   "cell_type": "code",
   "execution_count": 17,
   "metadata": {},
   "outputs": [],
   "source": [
    "provinces_selection = random.choices(provinces, k=1100, weights = [0.2, 0.025, 0.025, 0.025, 0.15, 0.025, 0.05, 0.025, 0.05, 0.025, \n",
    "                                                                   0.025, 0.05, 0.025, 0.025, 0.025, 0.025, 0.025, 0.025, 0.025, 0.05, \n",
    "                                                                   0.025, 0.025, 0.05])"
   ]
  },
  {
   "cell_type": "code",
   "execution_count": 23,
   "metadata": {},
   "outputs": [],
   "source": [
    "location_selections = []\n",
    "for i, j in enumerate(provinces_selection):\n",
    "    \n",
    "    location_selection = random.choice(location_dict[provinces_selection[i]])\n",
    "    location_selections.append(location_selection)"
   ]
  },
  {
   "cell_type": "code",
   "execution_count": 25,
   "metadata": {},
   "outputs": [],
   "source": [
    "streets_selection = random.choices(streets, k=1100)"
   ]
  },
  {
   "cell_type": "code",
   "execution_count": 26,
   "metadata": {},
   "outputs": [],
   "source": [
    "heights_selection = random.choices(heights, k=1100)"
   ]
  },
  {
   "cell_type": "markdown",
   "metadata": {},
   "source": [
    "#### Sumando todos los puntos"
   ]
  },
  {
   "cell_type": "code",
   "execution_count": 39,
   "metadata": {},
   "outputs": [],
   "source": [
    "directions = [ x + \", \"  + y +  \", \" + z + \" \" + str(m) for x, y, z, m in zip(provinces_selection, location_selections, streets_selection, heights_selection)]"
   ]
  },
  {
   "cell_type": "code",
   "execution_count": 41,
   "metadata": {},
   "outputs": [],
   "source": [
    "directions = pd.DataFrame(directions, columns=[\"direccion\"])"
   ]
  },
  {
   "cell_type": "markdown",
   "metadata": {},
   "source": [
    "### Se agregan las direcciones a la base de datos para los clientes, empleados y sucursales"
   ]
  },
  {
   "cell_type": "code",
   "execution_count": 10,
   "metadata": {},
   "outputs": [],
   "source": [
    "con = sqlite3.connect(\"..\\database\\itbank.db\")"
   ]
  },
  {
   "cell_type": "markdown",
   "metadata": {},
   "source": [
    "### Se agrega la columna de dirección a la base de datos de clientes"
   ]
  },
  {
   "cell_type": "code",
   "execution_count": 14,
   "metadata": {},
   "outputs": [],
   "source": [
    "clientes = pd.read_sql(\"SELECT * FROM cliente\", con=con)"
   ]
  },
  {
   "cell_type": "code",
   "execution_count": 19,
   "metadata": {},
   "outputs": [],
   "source": [
    "clientes[\"directions\"] = directions[\"direccion\"].head(500)"
   ]
  },
  {
   "cell_type": "code",
   "execution_count": 21,
   "metadata": {},
   "outputs": [],
   "source": [
    "### overwrite the clientes dataframe with the new column\n",
    "clientes.to_sql(\"cliente\", con=con, if_exists=\"replace\")"
   ]
  },
  {
   "cell_type": "markdown",
   "metadata": {},
   "source": [
    "### Se agrega la columna de dirección a la base de empleados y sucursales"
   ]
  },
  {
   "cell_type": "code",
   "execution_count": 34,
   "metadata": {},
   "outputs": [],
   "source": [
    "empleados = pd.read_sql(\"SELECT * FROM empleado\", con=con)"
   ]
  },
  {
   "cell_type": "code",
   "execution_count": 38,
   "metadata": {},
   "outputs": [],
   "source": [
    "empleados[\"directions\"] = directions[\"direccion\"][500:1000].values.tolist()"
   ]
  },
  {
   "cell_type": "code",
   "execution_count": 40,
   "metadata": {},
   "outputs": [],
   "source": [
    "empleados.to_sql(\"empleado\", con=con, if_exists=\"replace\")"
   ]
  },
  {
   "cell_type": "markdown",
   "metadata": {},
   "source": [
    "--------"
   ]
  },
  {
   "cell_type": "code",
   "execution_count": 41,
   "metadata": {},
   "outputs": [],
   "source": [
    "sucursal = pd.read_sql(\"SELECT * FROM sucursal\", con=con)"
   ]
  },
  {
   "cell_type": "code",
   "execution_count": 42,
   "metadata": {},
   "outputs": [],
   "source": [
    "sucursal[\"directions\"] = directions[\"direccion\"][1000:1500].values.tolist()"
   ]
  },
  {
   "cell_type": "code",
   "execution_count": 43,
   "metadata": {},
   "outputs": [],
   "source": [
    "sucursal.to_sql(\"sucursal\", con=con, if_exists=\"replace\")"
   ]
  },
  {
   "cell_type": "markdown",
   "metadata": {},
   "source": [
    "#### Se cierra la conexión con la base de datos (importante para evitar errores futuros)"
   ]
  },
  {
   "cell_type": "code",
   "execution_count": null,
   "metadata": {},
   "outputs": [],
   "source": [
    "con.close()"
   ]
  }
 ],
 "metadata": {
  "kernelspec": {
   "display_name": "Python 3.9.7 64-bit",
   "language": "python",
   "name": "python3"
  },
  "language_info": {
   "codemirror_mode": {
    "name": "ipython",
    "version": 3
   },
   "file_extension": ".py",
   "mimetype": "text/x-python",
   "name": "python",
   "nbconvert_exporter": "python",
   "pygments_lexer": "ipython3",
   "version": "3.9.7"
  },
  "orig_nbformat": 4,
  "vscode": {
   "interpreter": {
    "hash": "db0e05d799ad150ff6f95b13eef15f09568f87966873a3b36fbb1aeeee34a4e4"
   }
  }
 },
 "nbformat": 4,
 "nbformat_minor": 2
}

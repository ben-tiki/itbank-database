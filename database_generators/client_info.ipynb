{
 "cells": [
  {
   "cell_type": "code",
   "execution_count": 5,
   "metadata": {},
   "outputs": [],
   "source": [
    "# se importan las librerias necesarias\n",
    "import pandas as pd\n",
    "import random\n",
    "import sqlite3\n",
    "import sys"
   ]
  },
  {
   "cell_type": "code",
   "execution_count": 2,
   "metadata": {},
   "outputs": [],
   "source": [
    "# Consigna - Crear una base de datos de sql con los siguientes campos:\n",
    "# - customer_id: int (autoincremental, from 1 to 500)\n",
    "# - client_type: [\"CLASSIC\", \"GOLD\", \"BLACK\"]\n",
    "# - card_brand: [\"VISA\", \"MASTERCARD\", \"AMEX\"]\n",
    "# - card_number: int (16 digits)\n",
    "# - card-cvv: int (3 digits)\n",
    "# - card_type: [\"CREDIT\", \"DEBIT\"]\n",
    "# - card_issue_date: date (YYYY-MM-DD)\n",
    "# - card_expiration_date: string (YYYY-MM-DD)"
   ]
  },
  {
   "cell_type": "markdown",
   "metadata": {},
   "source": [
    "### Se crean los valores que tendrá la base de datos"
   ]
  },
  {
   "cell_type": "code",
   "execution_count": 3,
   "metadata": {},
   "outputs": [],
   "source": [
    "customer_id = list(range(1, 501)) # -> lista de 1 a 500"
   ]
  },
  {
   "cell_type": "code",
   "execution_count": 4,
   "metadata": {},
   "outputs": [],
   "source": [
    "# se crean las posibilidades que puede tener cada campo (para luego generar aleatoriamente)\n",
    "client_type_choices = [\"CLASSIC\", \"GOLD\", \"BLACK\"]\n",
    "card_brand_choices = [\"VISA\", \"MASTERCARD\", \"AMEX\"]\n",
    "card_type_choices = [\"CREDIT\", \"DEBIT\"]\n",
    "cvv_choices = list(range(100, 999))"
   ]
  },
  {
   "cell_type": "markdown",
   "metadata": {},
   "source": [
    "#### Se populan las columnas en base a los parámetros definidos"
   ]
  },
  {
   "cell_type": "code",
   "execution_count": 5,
   "metadata": {},
   "outputs": [],
   "source": [
    "# se genera una lista de 500 registros aleatoriamente. El 60 % de los usuarios son de tipo CLASSIC, el 0 % de los usuarios son de tipo GOLD y el 0 % de los usuarios son de tipo BLACK\n",
    "client_type = random.choices(client_type_choices, k=500,  weights= [0.6, 0.3, 0.1])\n",
    "\n",
    "# se generan 500 registros aleatorios entre los tipos de tarjeta que se pueden tener\n",
    "card_brand = random.choices(card_brand_choices, k=500)\n",
    "\n",
    "# se generan 500 registros aleatorios entre la clase de tarjeta \n",
    "card_type = random.choices(card_type_choices, k=500)\n",
    "\n",
    "# se generan 500 cvv aleatorios\n",
    "cvv = random.choices(cvv_choices, k=500)"
   ]
  },
  {
   "cell_type": "code",
   "execution_count": 6,
   "metadata": {},
   "outputs": [],
   "source": [
    "# Se generan 500 numeros de tarjeta aleatorios de 16 digitos\n",
    "card_number = random.choices(range(1_000_000_000_000_000, 9_999_999_999_999_999), k=500)"
   ]
  },
  {
   "cell_type": "code",
   "execution_count": 7,
   "metadata": {},
   "outputs": [],
   "source": [
    "# objetivo: se generan 500 fechas de emision aleatorias. Puede ser cualquier dia y mes. Entre los años 2016 y 2021\n",
    "\n",
    "# se generan 500 fechas de emision aleatorias\n",
    "card_issue_date = [\"2021-01-01\"] * 500\n",
    "\n",
    "# modificar el mes y año de la fecha de emision\n",
    "for i in range(len(card_issue_date)):\n",
    "    card_issue_date[i] = card_issue_date[i].split(\"-\")\n",
    "    card_issue_date[i][2] = str(random.randint(1, 28))\n",
    "    card_issue_date[i][1] = str(random.randint(1, 12))\n",
    "    card_issue_date[i][0] = str(random.randint(2016, 2021))\n",
    "    card_issue_date[i] = \"-\".join(card_issue_date[i])"
   ]
  },
  {
   "cell_type": "code",
   "execution_count": 8,
   "metadata": {},
   "outputs": [],
   "source": [
    "# objetivo: se generan 500 fechas de vencimiento aleatorias. Siempre vencen el primero de cada mes, puede ser cualquier mes. Entre los años 2021 y 2026\n",
    "\n",
    "# se generan 500 fechas de emision aleatorias\n",
    "card_expiration_date = [\"2021-01-01\"] * 500\n",
    "\n",
    "# modificar el mes y año de la fecha de emision\n",
    "for i in range(len(card_expiration_date)):\n",
    "    card_expiration_date[i] = card_expiration_date[i].split(\"-\")\n",
    "    card_expiration_date[i][1] = str(random.randint(1, 12))\n",
    "    card_expiration_date[i][0] = str(random.randint(2022, 2026))\n",
    "    card_expiration_date[i] = \"-\".join(card_expiration_date[i])"
   ]
  },
  {
   "cell_type": "markdown",
   "metadata": {},
   "source": [
    "#### Se crea la base de datos según los campos generados"
   ]
  },
  {
   "cell_type": "code",
   "execution_count": 9,
   "metadata": {},
   "outputs": [],
   "source": [
    "df = pd.DataFrame({\"customer_id\": customer_id, \n",
    "                   \"client_type\": client_type, \n",
    "                   \"card_brand\": card_brand, \n",
    "                   \"card_type\": card_type, \n",
    "                   \"card_number\": card_number, \n",
    "                   \"cvv\": cvv, \n",
    "                   \"card_issue_date\": card_issue_date, \n",
    "                   \"card_expiration_date\": card_expiration_date})"
   ]
  },
  {
   "cell_type": "code",
   "execution_count": 22,
   "metadata": {},
   "outputs": [
    {
     "data": {
      "text/html": [
       "<div>\n",
       "<style scoped>\n",
       "    .dataframe tbody tr th:only-of-type {\n",
       "        vertical-align: middle;\n",
       "    }\n",
       "\n",
       "    .dataframe tbody tr th {\n",
       "        vertical-align: top;\n",
       "    }\n",
       "\n",
       "    .dataframe thead th {\n",
       "        text-align: right;\n",
       "    }\n",
       "</style>\n",
       "<table border=\"1\" class=\"dataframe\">\n",
       "  <thead>\n",
       "    <tr style=\"text-align: right;\">\n",
       "      <th></th>\n",
       "      <th>customer_id</th>\n",
       "      <th>client_type</th>\n",
       "      <th>card_brand</th>\n",
       "      <th>card_type</th>\n",
       "      <th>card_number</th>\n",
       "      <th>cvv</th>\n",
       "      <th>card_issue_date</th>\n",
       "      <th>card_expiration_date</th>\n",
       "    </tr>\n",
       "  </thead>\n",
       "  <tbody>\n",
       "    <tr>\n",
       "      <th>0</th>\n",
       "      <td>1</td>\n",
       "      <td>CLASSIC</td>\n",
       "      <td>AMEX</td>\n",
       "      <td>CREDIT</td>\n",
       "      <td>3082699198751329</td>\n",
       "      <td>137</td>\n",
       "      <td>2016-9-22</td>\n",
       "      <td>2026-2-01</td>\n",
       "    </tr>\n",
       "    <tr>\n",
       "      <th>1</th>\n",
       "      <td>2</td>\n",
       "      <td>CLASSIC</td>\n",
       "      <td>MASTERCARD</td>\n",
       "      <td>CREDIT</td>\n",
       "      <td>8212025456090487</td>\n",
       "      <td>503</td>\n",
       "      <td>2018-9-28</td>\n",
       "      <td>2023-8-01</td>\n",
       "    </tr>\n",
       "    <tr>\n",
       "      <th>2</th>\n",
       "      <td>3</td>\n",
       "      <td>BLACK</td>\n",
       "      <td>VISA</td>\n",
       "      <td>DEBIT</td>\n",
       "      <td>4907078237623698</td>\n",
       "      <td>978</td>\n",
       "      <td>2021-12-22</td>\n",
       "      <td>2023-9-01</td>\n",
       "    </tr>\n",
       "    <tr>\n",
       "      <th>3</th>\n",
       "      <td>4</td>\n",
       "      <td>CLASSIC</td>\n",
       "      <td>AMEX</td>\n",
       "      <td>DEBIT</td>\n",
       "      <td>2842501940540092</td>\n",
       "      <td>782</td>\n",
       "      <td>2019-3-28</td>\n",
       "      <td>2024-6-01</td>\n",
       "    </tr>\n",
       "    <tr>\n",
       "      <th>4</th>\n",
       "      <td>5</td>\n",
       "      <td>CLASSIC</td>\n",
       "      <td>VISA</td>\n",
       "      <td>DEBIT</td>\n",
       "      <td>5257563062418799</td>\n",
       "      <td>298</td>\n",
       "      <td>2021-5-23</td>\n",
       "      <td>2022-10-01</td>\n",
       "    </tr>\n",
       "    <tr>\n",
       "      <th>...</th>\n",
       "      <td>...</td>\n",
       "      <td>...</td>\n",
       "      <td>...</td>\n",
       "      <td>...</td>\n",
       "      <td>...</td>\n",
       "      <td>...</td>\n",
       "      <td>...</td>\n",
       "      <td>...</td>\n",
       "    </tr>\n",
       "    <tr>\n",
       "      <th>495</th>\n",
       "      <td>496</td>\n",
       "      <td>CLASSIC</td>\n",
       "      <td>AMEX</td>\n",
       "      <td>DEBIT</td>\n",
       "      <td>3601521681830938</td>\n",
       "      <td>966</td>\n",
       "      <td>2020-2-20</td>\n",
       "      <td>2022-9-01</td>\n",
       "    </tr>\n",
       "    <tr>\n",
       "      <th>496</th>\n",
       "      <td>497</td>\n",
       "      <td>GOLD</td>\n",
       "      <td>VISA</td>\n",
       "      <td>DEBIT</td>\n",
       "      <td>4293627466647196</td>\n",
       "      <td>837</td>\n",
       "      <td>2017-2-19</td>\n",
       "      <td>2023-3-01</td>\n",
       "    </tr>\n",
       "    <tr>\n",
       "      <th>497</th>\n",
       "      <td>498</td>\n",
       "      <td>GOLD</td>\n",
       "      <td>VISA</td>\n",
       "      <td>DEBIT</td>\n",
       "      <td>4254341560674236</td>\n",
       "      <td>269</td>\n",
       "      <td>2020-3-25</td>\n",
       "      <td>2022-6-01</td>\n",
       "    </tr>\n",
       "    <tr>\n",
       "      <th>498</th>\n",
       "      <td>499</td>\n",
       "      <td>CLASSIC</td>\n",
       "      <td>VISA</td>\n",
       "      <td>DEBIT</td>\n",
       "      <td>1570782834747221</td>\n",
       "      <td>670</td>\n",
       "      <td>2016-4-26</td>\n",
       "      <td>2024-1-01</td>\n",
       "    </tr>\n",
       "    <tr>\n",
       "      <th>499</th>\n",
       "      <td>500</td>\n",
       "      <td>CLASSIC</td>\n",
       "      <td>VISA</td>\n",
       "      <td>DEBIT</td>\n",
       "      <td>2166976202006719</td>\n",
       "      <td>340</td>\n",
       "      <td>2017-7-28</td>\n",
       "      <td>2022-5-01</td>\n",
       "    </tr>\n",
       "  </tbody>\n",
       "</table>\n",
       "<p>500 rows × 8 columns</p>\n",
       "</div>"
      ],
      "text/plain": [
       "     customer_id client_type  card_brand card_type       card_number  cvv  \\\n",
       "0              1     CLASSIC        AMEX    CREDIT  3082699198751329  137   \n",
       "1              2     CLASSIC  MASTERCARD    CREDIT  8212025456090487  503   \n",
       "2              3       BLACK        VISA     DEBIT  4907078237623698  978   \n",
       "3              4     CLASSIC        AMEX     DEBIT  2842501940540092  782   \n",
       "4              5     CLASSIC        VISA     DEBIT  5257563062418799  298   \n",
       "..           ...         ...         ...       ...               ...  ...   \n",
       "495          496     CLASSIC        AMEX     DEBIT  3601521681830938  966   \n",
       "496          497        GOLD        VISA     DEBIT  4293627466647196  837   \n",
       "497          498        GOLD        VISA     DEBIT  4254341560674236  269   \n",
       "498          499     CLASSIC        VISA     DEBIT  1570782834747221  670   \n",
       "499          500     CLASSIC        VISA     DEBIT  2166976202006719  340   \n",
       "\n",
       "    card_issue_date card_expiration_date  \n",
       "0         2016-9-22            2026-2-01  \n",
       "1         2018-9-28            2023-8-01  \n",
       "2        2021-12-22            2023-9-01  \n",
       "3         2019-3-28            2024-6-01  \n",
       "4         2021-5-23           2022-10-01  \n",
       "..              ...                  ...  \n",
       "495       2020-2-20            2022-9-01  \n",
       "496       2017-2-19            2023-3-01  \n",
       "497       2020-3-25            2022-6-01  \n",
       "498       2016-4-26            2024-1-01  \n",
       "499       2017-7-28            2022-5-01  \n",
       "\n",
       "[500 rows x 8 columns]"
      ]
     },
     "execution_count": 22,
     "metadata": {},
     "output_type": "execute_result"
    }
   ],
   "source": [
    "df"
   ]
  },
  {
   "cell_type": "markdown",
   "metadata": {},
   "source": [
    "#### Se exporta la tabla a SQL"
   ]
  },
  {
   "cell_type": "code",
   "execution_count": 12,
   "metadata": {},
   "outputs": [],
   "source": [
    "# conexion a la base de datos\n",
    "conn = sqlite3.connect(\"..\\\\database\\\\itbank.db\")"
   ]
  },
  {
   "cell_type": "code",
   "execution_count": 23,
   "metadata": {},
   "outputs": [],
   "source": [
    "# se exporta el dataframe al formato sql\n",
    "df.to_sql(\"tipo_usuarios\", conn, if_exists=\"replace\", index=False)"
   ]
  },
  {
   "cell_type": "code",
   "execution_count": null,
   "metadata": {},
   "outputs": [],
   "source": [
    "conn.close()"
   ]
  }
 ],
 "metadata": {
  "kernelspec": {
   "display_name": "Python 3.9.7 64-bit",
   "language": "python",
   "name": "python3"
  },
  "language_info": {
   "codemirror_mode": {
    "name": "ipython",
    "version": 3
   },
   "file_extension": ".py",
   "mimetype": "text/x-python",
   "name": "python",
   "nbconvert_exporter": "python",
   "pygments_lexer": "ipython3",
   "version": "3.9.7"
  },
  "orig_nbformat": 4,
  "vscode": {
   "interpreter": {
    "hash": "db0e05d799ad150ff6f95b13eef15f09568f87966873a3b36fbb1aeeee34a4e4"
   }
  }
 },
 "nbformat": 4,
 "nbformat_minor": 2
}
